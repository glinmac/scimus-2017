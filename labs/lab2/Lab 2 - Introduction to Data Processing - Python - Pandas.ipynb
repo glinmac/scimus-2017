{
 "cells": [
  {
   "cell_type": "markdown",
   "metadata": {},
   "source": [
    "# Lab 2 - Introduction to Data Processing - Python/Pandas"
   ]
  },
  {
   "cell_type": "markdown",
   "metadata": {},
   "source": [
    "---\n",
    "\n",
    "**Date:**\n",
    "\n",
    "**Group:**\n",
    " - *Student Name 1*\n",
    " - *Student Name 2*\n",
    "---\n",
    "In this second lab, we will learn how to perform some data processing and visualization in Python using the [Pandas](http://pandas.pydata.org/), [NumPy](http://www.numpy.org/) and [SciPy](https://www.scipy.org/) libraries."
   ]
  },
  {
   "cell_type": "code",
   "execution_count": null,
   "metadata": {
    "code_folding": []
   },
   "outputs": [],
   "source": [
    "# General dependencies\n",
    "# !! run this cell first before any other ones\n",
    "import sys\n",
    "import os\n",
    "import time\n",
    "import operator\n",
    "from datetime import datetime, date\n",
    "import json\n",
    "from IPython.core.display import HTML, display\n",
    "from IPython.display import IFrame\n",
    "import matplotlib.pyplot as plt\n",
    "import numpy as np\n",
    "from collections import defaultdict\n",
    "from pprint import pprint\n",
    "%matplotlib inline\n"
   ]
  },
  {
   "cell_type": "markdown",
   "metadata": {},
   "source": [
    "## Introduction\n",
    "[Pandas](http://pandas.pydata.org/), [NumPy](http://www.numpy.org/) and [SciPy](https://www.scipy.org/) are popular Python libraries for data analysis.\n",
    "\n",
    "This notebook will give you a very quick overview of some of its capabilities.\n",
    "\n",
    "For more details:\n",
    "* [A 10min quickstart](http://pandas.pydata.org/pandas-docs/stable/10min.html)\n",
    "* [Pandas documentation](http://pandas.pydata.org/pandas-docs/version/0.18.0/)\n",
    "\n",
    "As for the `requests` module, `pandas` has to be imported in the Python namespace"
   ]
  },
  {
   "cell_type": "code",
   "execution_count": null,
   "metadata": {},
   "outputs": [],
   "source": [
    "import pandas"
   ]
  },
  {
   "cell_type": "markdown",
   "metadata": {},
   "source": [
    "Let's create a dummy data set to explore some of the functionalities:"
   ]
  },
  {
   "cell_type": "code",
   "execution_count": null,
   "metadata": {},
   "outputs": [],
   "source": [
    "tracks = [\n",
    "    {'tname': 'track1', 'popularity': 10, 'genre': 'rock', 'release_date': '2014-01-01', 'custom': ''},\n",
    "    {'tname': 'track2', 'popularity': 84, 'genre': 'punk', 'release_date': '2014-01-01', 'custom': ''},\n",
    "    {'tname': 'track3', 'popularity': 65, 'genre': 'reggae', 'release_date': '2014-02-01', 'custom': ''},\n",
    "    {'tname': 'track4', 'popularity': 62, 'genre': 'punk', 'release_date': '2014-01-01', 'custom': ''},\n",
    "    {'tname': 'track5', 'popularity': 5, 'genre': 'rock', 'release_date': '2014-01-01', 'custom': ''},\n",
    "    {'tname': 'track6', 'popularity': 13, 'genre': 'reggae', 'release_date': '2014-01-01', 'custom': ''},\n",
    "    {'tname': 'track7', 'popularity': 56, 'genre': 'rock', 'release_date': '2012-01-01', 'custom': ''},\n",
    "    {'tname': 'track8', 'popularity': 53, 'genre': 'punk', 'release_date': '2014-12-01', 'custom': ''},\n",
    "    {'tname': 'track9', 'popularity': 76, 'genre': 'rock', 'release_date': '2014-01-01', 'custom': ''},\n",
    "    {'tname': 'track10', 'popularity': 72, 'genre': 'rock', 'release_date': '2014-01-01', 'custom': ''},\n",
    "    {'tname': 'track11', 'popularity': 75, 'genre': 'rock', 'release_date': '2014-01-01', 'custom': ''},\n",
    "    {'tname': 'track12', 'popularity': 76, 'genre': 'rock', 'release_date': '1967-01-01', 'custom': ''},\n",
    "    {'tname': 'track13', 'popularity': 2, 'genre': 'rock', 'release_date': '2014-01-01', 'custom': ''},\n",
    "    {'tname': 'track14', 'popularity': 15, 'genre': 'rock', 'release_date': '2014-01-01', 'custom': ''},    \n",
    "]"
   ]
  },
  {
   "cell_type": "markdown",
   "metadata": {},
   "source": [
    "This contains a list of Python objects with a set of common attributes for each of them:\n",
    " * `tname`\n",
    " * `popularity`\n",
    " * `genre`\n",
    " * `release_date`\n",
    " * `custom`"
   ]
  },
  {
   "cell_type": "markdown",
   "metadata": {},
   "source": [
    "### Creating a DataFrame\n",
    "A [*DataFrame*](http://pandas.pydata.org/pandas-docs/stable/generated/pandas.DataFrame.html) is one of the main data structure available in Pandas. \n",
    "\n",
    "It is a 2 dimensional structure with columns of potentially different types with indexed axes (rows and columns). \n",
    "\n",
    "Among the various possibilities, a Pandas's DataFrame can be created easily from a list of objects using the `json_normalize` function"
   ]
  },
  {
   "cell_type": "code",
   "execution_count": null,
   "metadata": {},
   "outputs": [],
   "source": [
    "from pandas.io.json import json_normalize\n",
    "\n",
    "help(json_normalize)"
   ]
  },
  {
   "cell_type": "code",
   "execution_count": null,
   "metadata": {},
   "outputs": [],
   "source": [
    "df = json_normalize(tracks)"
   ]
  },
  {
   "cell_type": "markdown",
   "metadata": {},
   "source": [
    "We can display this DataFrame directly in a notebook:"
   ]
  },
  {
   "cell_type": "code",
   "execution_count": null,
   "metadata": {},
   "outputs": [],
   "source": [
    "df"
   ]
  },
  {
   "cell_type": "markdown",
   "metadata": {},
   "source": [
    "As you can see, each attribute is mapped to a column and we have a list of rows indexed by an integer.\n",
    "\n",
    "The index for the rows is automatically created by Pandas and is a `RangeIndex` object:"
   ]
  },
  {
   "cell_type": "code",
   "execution_count": null,
   "metadata": {},
   "outputs": [],
   "source": [
    "df.index"
   ]
  },
  {
   "cell_type": "markdown",
   "metadata": {},
   "source": [
    "The `head()` method can be used on a DataFrame object to return the `n` first rows (default is 5)"
   ]
  },
  {
   "cell_type": "code",
   "execution_count": null,
   "metadata": {},
   "outputs": [],
   "source": [
    "df.head(2)"
   ]
  },
  {
   "cell_type": "markdown",
   "metadata": {},
   "source": [
    "Note that `head()` also returns a `DataFrame`:"
   ]
  },
  {
   "cell_type": "code",
   "execution_count": null,
   "metadata": {},
   "outputs": [],
   "source": [
    "type(df.head(2))"
   ]
  },
  {
   "cell_type": "markdown",
   "metadata": {},
   "source": [
    "The property `dtypes` of a `DataFrame` can be used to know which types are associated with each column:"
   ]
  },
  {
   "cell_type": "code",
   "execution_count": null,
   "metadata": {},
   "outputs": [],
   "source": [
    "df.dtypes"
   ]
  },
  {
   "cell_type": "markdown",
   "metadata": {},
   "source": [
    "As you can see, this DataFrame is made of 5 columns with different types (string & integer). In this example, the release date is encoded as a string (object) but we could have used the `datetime` or `date` types from the `datetime` module.\n",
    "\n",
    "We can perform some operations on this DataFrame object:\n",
    " * get the number of rows:"
   ]
  },
  {
   "cell_type": "code",
   "execution_count": null,
   "metadata": {},
   "outputs": [],
   "source": [
    "# len can be used on a data frame to get the number of rows\n",
    "print('Num records:', len(df))"
   ]
  },
  {
   "cell_type": "markdown",
   "metadata": {},
   "source": [
    " * get the number of records & columns using the `shape` method:"
   ]
  },
  {
   "cell_type": "code",
   "execution_count": null,
   "metadata": {},
   "outputs": [],
   "source": [
    "print('DataFrame shape:', df.shape)"
   ]
  },
  {
   "cell_type": "markdown",
   "metadata": {},
   "source": [
    "* select all values within a given column"
   ]
  },
  {
   "cell_type": "code",
   "execution_count": null,
   "metadata": {},
   "outputs": [],
   "source": [
    "# either using a python property\n",
    "df.tname"
   ]
  },
  {
   "cell_type": "code",
   "execution_count": null,
   "metadata": {},
   "outputs": [],
   "source": [
    "# or by its name\n",
    "df['genre']"
   ]
  },
  {
   "cell_type": "markdown",
   "metadata": {},
   "source": [
    "* To select a set of columns:"
   ]
  },
  {
   "cell_type": "code",
   "execution_count": null,
   "metadata": {},
   "outputs": [],
   "source": [
    "df[['genre', 'tname']]"
   ]
  },
  {
   "cell_type": "markdown",
   "metadata": {},
   "source": [
    "* To select a range of rows"
   ]
  },
  {
   "cell_type": "code",
   "execution_count": null,
   "metadata": {},
   "outputs": [],
   "source": [
    "df[3:5]"
   ]
  },
  {
   "cell_type": "markdown",
   "metadata": {},
   "source": [
    "* To return the object at a specific row:"
   ]
  },
  {
   "cell_type": "code",
   "execution_count": null,
   "metadata": {},
   "outputs": [],
   "source": [
    "df.loc[2]"
   ]
  },
  {
   "cell_type": "markdown",
   "metadata": {},
   "source": [
    "On numerical fields, Pandas can compute some basic statistics on the DataFrame with the `describe` function"
   ]
  },
  {
   "cell_type": "code",
   "execution_count": null,
   "metadata": {},
   "outputs": [],
   "source": [
    "df.describe()"
   ]
  },
  {
   "cell_type": "markdown",
   "metadata": {},
   "source": [
    "When accessing a specific row or a specific column within the `DataFrame`, you will get a Pandas `Series` object that models a one-dimensional array. For instance:"
   ]
  },
  {
   "cell_type": "code",
   "execution_count": null,
   "metadata": {},
   "outputs": [],
   "source": [
    "print('Type record:', type(df.loc[1]))\n",
    "print('Type column:', type(df['tname']))"
   ]
  },
  {
   "cell_type": "markdown",
   "metadata": {},
   "source": [
    "The type of the series can be retrieved with the `dtype` property of the Pandas's `Series`:"
   ]
  },
  {
   "cell_type": "code",
   "execution_count": null,
   "metadata": {},
   "outputs": [],
   "source": [
    "print(df.loc[1].dtype)\n",
    "print(df.popularity.dtype)"
   ]
  },
  {
   "cell_type": "markdown",
   "metadata": {},
   "source": [
    "Like a `DataFrame`, a specific element of a `Series` can be retrieved using its position or its index name:"
   ]
  },
  {
   "cell_type": "code",
   "execution_count": null,
   "metadata": {},
   "outputs": [],
   "source": [
    "print(df.loc[1][4] == df.loc[1].tname)\n",
    "print(df.tname.loc[0] == df.tname[0])"
   ]
  },
  {
   "cell_type": "markdown",
   "metadata": {},
   "source": [
    "For more details on the DataFrame object you can use the `help` function and also consult its documentation at http://pandas.pydata.org/pandas-docs/stable/generated/pandas.DataFrame.html"
   ]
  },
  {
   "cell_type": "code",
   "execution_count": null,
   "metadata": {},
   "outputs": [],
   "source": [
    "help(df)"
   ]
  },
  {
   "cell_type": "markdown",
   "metadata": {},
   "source": [
    "### Grouping\n",
    "Now that we have covered some basic knowledge of the `DataFrame`, let's count the number of tracks grouped by genre. This is possible using the `groupby` function of a `DataFrame`:"
   ]
  },
  {
   "cell_type": "code",
   "execution_count": null,
   "metadata": {},
   "outputs": [],
   "source": [
    "g = df.groupby('genre')\n",
    "g"
   ]
  },
  {
   "cell_type": "markdown",
   "metadata": {},
   "source": [
    "The `DataFrameGroupBy` is creating the grouping and can be used in several ways:\n",
    "* iterating through the groups and there respective records represented as a `DataFrame`:"
   ]
  },
  {
   "cell_type": "code",
   "execution_count": null,
   "metadata": {},
   "outputs": [],
   "source": [
    "for key, group in g:\n",
    "    print('Genre: %s' % key)\n",
    "    print('DataFrame:')\n",
    "    display(group)"
   ]
  },
  {
   "cell_type": "markdown",
   "metadata": {},
   "source": [
    "* get the groups and the index of the associated records:"
   ]
  },
  {
   "cell_type": "code",
   "execution_count": null,
   "metadata": {},
   "outputs": [],
   "source": [
    "print('List of groups with their respective records indexes:', g.groups)\n",
    "print('\\nRecord for the \"punk\" genre:\\n')\n",
    "for i in g.groups['punk']:\n",
    "    print('Record with index', i)\n",
    "    print(df.loc[i])\n",
    "    print('\\n')"
   ]
  },
  {
   "cell_type": "markdown",
   "metadata": {},
   "source": [
    "* get the size of each groups:"
   ]
  },
  {
   "cell_type": "code",
   "execution_count": null,
   "metadata": {},
   "outputs": [],
   "source": [
    "g.size()"
   ]
  },
  {
   "cell_type": "markdown",
   "metadata": {},
   "source": [
    "* apply some aggregation functions for each group to deduce some properties on other columns"
   ]
  },
  {
   "cell_type": "code",
   "execution_count": null,
   "metadata": {},
   "outputs": [],
   "source": [
    "# count of records\n",
    "display(g.count())\n",
    "\n",
    "# avg computed for numeric fields\n",
    "display(g.mean())"
   ]
  },
  {
   "cell_type": "markdown",
   "metadata": {},
   "source": [
    "* We can also display this now using the `.plot()` function. For instance, to display the size of each group in a bar chart:"
   ]
  },
  {
   "cell_type": "code",
   "execution_count": null,
   "metadata": {},
   "outputs": [],
   "source": [
    "g.size().plot(kind='bar', title='Repartition of tracks by genre', figsize=(5,5))"
   ]
  },
  {
   "cell_type": "markdown",
   "metadata": {},
   "source": [
    "Grouping may be performed on several columns and an aggregation function can be used to perform more analysis on the groups. \n",
    "\n",
    "Let's say we want to count the number of tracks grouped by release date and genre:"
   ]
  },
  {
   "cell_type": "code",
   "execution_count": null,
   "metadata": {},
   "outputs": [],
   "source": [
    "g = df.groupby(['release_date', 'genre'])\n",
    "g.count()"
   ]
  },
  {
   "cell_type": "markdown",
   "metadata": {},
   "source": [
    "By consulting the `shape` of the result, you can see that the new `DataFrame` contains 7 rows and 3 columns:"
   ]
  },
  {
   "cell_type": "code",
   "execution_count": null,
   "metadata": {},
   "outputs": [],
   "source": [
    "g.count().shape"
   ]
  },
  {
   "cell_type": "markdown",
   "metadata": {},
   "source": [
    "Each row represent the result of the grouping for the groups that have been found. For instance, there are 7 initial records in the original data sets that have a `release_date` equals to `2014-01-01` which `genre` is `rock`:"
   ]
  },
  {
   "cell_type": "code",
   "execution_count": null,
   "metadata": {},
   "outputs": [],
   "source": [
    "print(g.count().loc['2014-01-01', 'rock'])"
   ]
  },
  {
   "cell_type": "markdown",
   "metadata": {},
   "source": [
    "We could also find them using the `groups` property of the original `g` object:"
   ]
  },
  {
   "cell_type": "code",
   "execution_count": null,
   "metadata": {},
   "outputs": [],
   "source": [
    "len(g.groups[('2014-01-01', 'rock')])"
   ]
  },
  {
   "cell_type": "markdown",
   "metadata": {},
   "source": [
    "Using an aggregation function, we can compute the mean popuparity for each group that has been found:"
   ]
  },
  {
   "cell_type": "code",
   "execution_count": null,
   "metadata": {},
   "outputs": [],
   "source": [
    "df.groupby(['release_date', 'genre']).mean()"
   ]
  },
  {
   "cell_type": "markdown",
   "metadata": {},
   "source": [
    "Sometime you may want to pivot the ouptut to get a columnar representation of some groups, which will allow later to transform the data to visualize it:"
   ]
  },
  {
   "cell_type": "code",
   "execution_count": null,
   "metadata": {},
   "outputs": [],
   "source": [
    "g.mean().unstack('genre')"
   ]
  },
  {
   "cell_type": "markdown",
   "metadata": {},
   "source": [
    "We can replace undefined value with a default value with the `fillna` method:"
   ]
  },
  {
   "cell_type": "code",
   "execution_count": null,
   "metadata": {},
   "outputs": [],
   "source": [
    "g.mean().unstack('genre').fillna(0)"
   ]
  },
  {
   "cell_type": "markdown",
   "metadata": {},
   "source": [
    "And now, we can use this `DataFrame` to plot the popularity by year and type using a bar chart:"
   ]
  },
  {
   "cell_type": "code",
   "execution_count": null,
   "metadata": {},
   "outputs": [],
   "source": [
    "ax = g.mean().unstack('genre').fillna(0).plot(kind='bar', stacked=False, figsize=(15,5))\n",
    "ax.set_xlabel('Release date')\n",
    "ax.set_ylabel('Popularity')\n",
    "ax.set_title('Popularity of artist group by date and genre ')"
   ]
  },
  {
   "cell_type": "markdown",
   "metadata": {},
   "source": [
    "### Filtering\n",
    "Filters can easily be applied on a DataFrame "
   ]
  },
  {
   "cell_type": "code",
   "execution_count": null,
   "metadata": {},
   "outputs": [],
   "source": [
    "df.popularity > 60"
   ]
  },
  {
   "cell_type": "code",
   "execution_count": null,
   "metadata": {},
   "outputs": [],
   "source": [
    "df.genre == 'punk'"
   ]
  },
  {
   "cell_type": "markdown",
   "metadata": {},
   "source": [
    "This returns a Pandas Series and can be also used to select a subset of a DataFrame:"
   ]
  },
  {
   "cell_type": "code",
   "execution_count": null,
   "metadata": {},
   "outputs": [],
   "source": [
    "df[df.popularity > 60][['custom', 'genre']]"
   ]
  },
  {
   "cell_type": "markdown",
   "metadata": {},
   "source": [
    "Associating fitering and grouping we can now slect the tracks with a popularity greater than 60 and then group them by genre:"
   ]
  },
  {
   "cell_type": "code",
   "execution_count": null,
   "metadata": {},
   "outputs": [],
   "source": [
    "ax = df[df.popularity > 60] \\\n",
    "    .groupby('genre') \\\n",
    "    .size() \\\n",
    "    .plot(kind='pie', \n",
    "          title='Repartition of genre for tracks with popularity > 60', \\\n",
    "          figsize=(5,5))\n",
    "ax.set_ylabel('')"
   ]
  },
  {
   "cell_type": "markdown",
   "metadata": {},
   "source": [
    "We could also plot the distribution of the popularity values for tracks with a genre *rock*:"
   ]
  },
  {
   "cell_type": "code",
   "execution_count": null,
   "metadata": {},
   "outputs": [],
   "source": [
    "rock_distrib = df[df.genre == 'rock']\n",
    "rock_distrib"
   ]
  },
  {
   "cell_type": "code",
   "execution_count": null,
   "metadata": {},
   "outputs": [],
   "source": [
    "# Create an histogram with 10 bins \n",
    "rock_distrib['popularity'].hist(bins=10, figsize=(10, 5))\n",
    "ax.set_xlabel('Popularity')\n",
    "ax.set_ylabel('Count of tracks')"
   ]
  },
  {
   "cell_type": "markdown",
   "metadata": {},
   "source": [
    "### Deriving new data\n",
    "\n",
    "Functions can be applied to columns to generate new values or columns.\n",
    "\n",
    "For instance, we may want to group the tracks by the year of their release and not the day of their release.\n",
    "\n",
    "This could be done for instance by:\n",
    "* creating a new `year` feature\n",
    "* applying the group on the feature"
   ]
  },
  {
   "cell_type": "code",
   "execution_count": null,
   "metadata": {
    "scrolled": true
   },
   "outputs": [],
   "source": [
    "df['release_date'].apply(lambda x: int(x.split('-')[0]))"
   ]
  },
  {
   "cell_type": "markdown",
   "metadata": {},
   "source": [
    "We *apply* a function to the dataframe a small function that is applied on each element of the `df['release_date']` values. The function can also be created as a standard python function:"
   ]
  },
  {
   "cell_type": "code",
   "execution_count": null,
   "metadata": {},
   "outputs": [],
   "source": [
    "def extract_year(date_str):\n",
    "    return int(date_str.split('-')[0])\n",
    "df['release_date'].apply(extract_year)"
   ]
  },
  {
   "cell_type": "markdown",
   "metadata": {},
   "source": [
    "We can extend our DataFrame with this new column:"
   ]
  },
  {
   "cell_type": "code",
   "execution_count": null,
   "metadata": {},
   "outputs": [],
   "source": [
    "df['year'] = df['release_date'].apply(lambda x: x.split('-')[0])\n",
    "df.head(2)"
   ]
  },
  {
   "cell_type": "markdown",
   "metadata": {},
   "source": [
    "We can now plot the repartition of genre by year of release:"
   ]
  },
  {
   "cell_type": "code",
   "execution_count": null,
   "metadata": {},
   "outputs": [],
   "source": [
    "ax = df.groupby(['year', 'genre'])['tname'].count()\\\n",
    "    .unstack('genre').fillna(0)\\\n",
    "    .plot(kind='bar', stacked=True, figsize=(15,5))\n",
    "ax.set_xlabel('Year')\n",
    "ax.set_ylabel('Number of tracks')"
   ]
  },
  {
   "cell_type": "markdown",
   "metadata": {},
   "source": [
    "You can drop columns for the DataFrame to clean up the data"
   ]
  },
  {
   "cell_type": "code",
   "execution_count": null,
   "metadata": {
    "scrolled": true
   },
   "outputs": [],
   "source": [
    "df.drop('custom', axis=1, inplace=True)\n",
    "df.head(2)"
   ]
  },
  {
   "cell_type": "markdown",
   "metadata": {},
   "source": [
    "# Exercice 1 - User profiles analysis\n",
    "\n",
    "Using the [LastFm 360K dataset](http://www.dtic.upf.edu/~ocelma/MusicRecommendationDataset/lastfm-360K.html), you'll be doing some analysis of a subset of LastFM anonymyzed users profiles.\n",
    "\n",
    "This data sets containing for each user the following properties:\n",
    "* id (SHA1)\n",
    "* gender\n",
    "* age\n",
    "* country\n",
    "* signup date\n",
    "\n",
    "The file is a TSV file (Tab Separated Values) with the following structure:\n",
    "\n",
    "    user-mboxsha1 \\t gender (m|f|empty) \\t age (int|empty) \\t country (str|empty) \\t signup (date|empty)\n",
    "\n",
    "\n",
    "Download the file at the following address:\n",
    "\n",
    "    https://s3-eu-west-1.amazonaws.com/scimus-data/lab2/usersha1-profile.tsv.gz\n",
    "    \n",
    "and extract it somewhere in your Home directory. You can for instance use the following shell commands:\n",
    "    \n",
    "    mkdir scimus-data\n",
    "    curl -O https://s3-eu-west-1.amazonaws.com/scimus-data/lab2/usersha1-profile.tsv.gz\n",
    "    gunzip usersha1-profile.tsv.gz\n",
    "\n",
    "By analysing the data set with Pandas, answer the following questions:\n",
    "\n",
    "**Q:** Load the data set into a Pandas DataFrame. Some hints:\n",
    " * use the `read_csv` function from the `pandas` package\n",
    " * the fields are separated by a tabular character (`\\t`)\n",
    " * there is no header in the file\n",
    " "
   ]
  },
  {
   "cell_type": "code",
   "execution_count": null,
   "metadata": {},
   "outputs": [],
   "source": [
    "# your code here\n",
    "help(pandas.read_csv)"
   ]
  },
  {
   "cell_type": "markdown",
   "metadata": {},
   "source": [
    "We'll do some quick analysis of the data sets:\n",
    "\n",
    "**Q:** What is the number of records in the DataFrame?"
   ]
  },
  {
   "cell_type": "code",
   "execution_count": null,
   "metadata": {},
   "outputs": [],
   "source": [
    "# your code here"
   ]
  },
  {
   "cell_type": "markdown",
   "metadata": {},
   "source": [
    "**Q:** What is the number of columns?"
   ]
  },
  {
   "cell_type": "code",
   "execution_count": null,
   "metadata": {},
   "outputs": [],
   "source": [
    "# your code here"
   ]
  },
  {
   "cell_type": "markdown",
   "metadata": {},
   "source": [
    "**Q:** What is the type of each column?"
   ]
  },
  {
   "cell_type": "code",
   "execution_count": null,
   "metadata": {},
   "outputs": [],
   "source": [
    "# your code here"
   ]
  },
  {
   "cell_type": "markdown",
   "metadata": {},
   "source": [
    "We are going to create a new column containing a proper Python `date` object for the `signup` date value.\n",
    "\n",
    "**Q:** Create a Python function that parse a string and transform it into a Python `date` object. Use the `strptime` method of `datetime` (see the Python documentation for the string [format](https://docs.python.org/3.5/library/datetime.html#strftime-strptime-behavior)). `datetime` python objects can be transformed to a `date` with the `.date()` method."
   ]
  },
  {
   "cell_type": "code",
   "execution_count": null,
   "metadata": {},
   "outputs": [],
   "source": [
    "# your code here\n",
    "def parse_signup(value):\n",
    "    # ...\n",
    "    return ..."
   ]
  },
  {
   "cell_type": "markdown",
   "metadata": {},
   "source": [
    "**Q:** Create a new column to the DataFrame named `signup_date` that contains the transformed `signup` column in a proper `date` object."
   ]
  },
  {
   "cell_type": "code",
   "execution_count": null,
   "metadata": {},
   "outputs": [],
   "source": [
    "# Your code here"
   ]
  },
  {
   "cell_type": "markdown",
   "metadata": {},
   "source": [
    "**Q:** Get the list of countries present in the data set. A unique list of elements can be constructed from a traditional Python `list` using a Python `set`, eg:"
   ]
  },
  {
   "cell_type": "code",
   "execution_count": null,
   "metadata": {},
   "outputs": [],
   "source": [
    "# A unique list of elements can be constructed from a traditional Python list using a Python set, eg:\n",
    "s = set([1,2,3,4,3,4,1,1])\n",
    "print(s)\n",
    "print(len(s))"
   ]
  },
  {
   "cell_type": "code",
   "execution_count": null,
   "metadata": {},
   "outputs": [],
   "source": [
    "# Your code here"
   ]
  },
  {
   "cell_type": "markdown",
   "metadata": {},
   "source": [
    "**Q:** Display the number of values available in the `gender` column."
   ]
  },
  {
   "cell_type": "code",
   "execution_count": null,
   "metadata": {},
   "outputs": [],
   "source": [
    "# Your code here"
   ]
  },
  {
   "cell_type": "markdown",
   "metadata": {},
   "source": [
    "**Q:** Count the number of records for which the `age` property is not set. The `isnull()` function can be used on a Pandas Series."
   ]
  },
  {
   "cell_type": "code",
   "execution_count": null,
   "metadata": {},
   "outputs": [],
   "source": [
    "# your code here"
   ]
  },
  {
   "cell_type": "markdown",
   "metadata": {},
   "source": [
    "**Q:** For each column, display the percentage of missing values:"
   ]
  },
  {
   "cell_type": "code",
   "execution_count": null,
   "metadata": {},
   "outputs": [],
   "source": [
    "# Your code here"
   ]
  },
  {
   "cell_type": "markdown",
   "metadata": {},
   "source": [
    "**Q:** Study the distribution of age. What can you say about the values, their range?"
   ]
  },
  {
   "cell_type": "code",
   "execution_count": null,
   "metadata": {},
   "outputs": [],
   "source": [
    "# your code here"
   ]
  },
  {
   "cell_type": "markdown",
   "metadata": {},
   "source": [
    "**Q:** Plot the number of signups by year:"
   ]
  },
  {
   "cell_type": "code",
   "execution_count": null,
   "metadata": {},
   "outputs": [],
   "source": [
    "# your code here"
   ]
  },
  {
   "cell_type": "markdown",
   "metadata": {},
   "source": [
    "**Q:** Plot the number of signups by month"
   ]
  },
  {
   "cell_type": "code",
   "execution_count": null,
   "metadata": {},
   "outputs": [],
   "source": [
    "# your code here"
   ]
  },
  {
   "cell_type": "markdown",
   "metadata": {},
   "source": [
    "**Q:** We want to know if a day has overall more signup than another during the week. Display the total number of signup for all days of the week. Look at the `date` help to identify a function that returns the day of the week for a given date."
   ]
  },
  {
   "cell_type": "code",
   "execution_count": null,
   "metadata": {},
   "outputs": [],
   "source": [
    "# your code here"
   ]
  },
  {
   "cell_type": "markdown",
   "metadata": {},
   "source": [
    "**Q:** Plot the evolution of signup by month and by genre:"
   ]
  },
  {
   "cell_type": "code",
   "execution_count": null,
   "metadata": {},
   "outputs": [],
   "source": [
    "# your code here"
   ]
  },
  {
   "cell_type": "markdown",
   "metadata": {},
   "source": [
    "**Q:** Create a pie chart plotting the total distribution of signup by genre:"
   ]
  },
  {
   "cell_type": "code",
   "execution_count": null,
   "metadata": {},
   "outputs": [],
   "source": [
    "# your code here"
   ]
  },
  {
   "cell_type": "markdown",
   "metadata": {},
   "source": [
    "**Q:** Plot the distribution of signups by month and age."
   ]
  },
  {
   "cell_type": "code",
   "execution_count": null,
   "metadata": {},
   "outputs": [],
   "source": [
    "# your code here"
   ]
  },
  {
   "cell_type": "markdown",
   "metadata": {},
   "source": [
    "**Q:** To simplify the visualization, compute the same information by bucketting ages by bucket of 10 years, ie, plotting statistics for age [0, 10], [10, 20], ..."
   ]
  },
  {
   "cell_type": "code",
   "execution_count": null,
   "metadata": {},
   "outputs": [],
   "source": [
    "# your code here"
   ]
  },
  {
   "cell_type": "markdown",
   "metadata": {},
   "source": [
    "**Q:** What are the countries that have the highest number of signups? Look at the `sort_values` function."
   ]
  },
  {
   "cell_type": "code",
   "execution_count": null,
   "metadata": {},
   "outputs": [],
   "source": [
    "help(df.sort_values)"
   ]
  },
  {
   "cell_type": "code",
   "execution_count": null,
   "metadata": {},
   "outputs": [],
   "source": [
    "# your code here"
   ]
  },
  {
   "cell_type": "markdown",
   "metadata": {},
   "source": [
    "**Q:** Visualize the data in a pie chart:"
   ]
  },
  {
   "cell_type": "code",
   "execution_count": null,
   "metadata": {},
   "outputs": [],
   "source": [
    "# your code here"
   ]
  },
  {
   "cell_type": "markdown",
   "metadata": {},
   "source": [
    "**Q:** For the top 10 countries, display the evolution of signup during the months. You can use the function `isin` to test if values of a Pandas Series are included in a list and use this as a filter."
   ]
  },
  {
   "cell_type": "code",
   "execution_count": null,
   "metadata": {},
   "outputs": [],
   "source": [
    "help(pandas.Series.isin)"
   ]
  },
  {
   "cell_type": "code",
   "execution_count": null,
   "metadata": {},
   "outputs": [],
   "source": [
    "# your code here"
   ]
  },
  {
   "cell_type": "markdown",
   "metadata": {},
   "source": [
    "## Exercice 2 - Spotify Data\n",
    "\n",
    "We've extracted some sample data from the [Spotify Web API](https://developer.spotify.com/web-api/) about tracks available in the France market for *The Beatles* (Spotify ID: `568ZhdwyaiCyOGJRtNYhWf`).\n",
    "\n",
    "The data is stored in the `tracks-beatles.json` file. Each line represents a different track structured in a JSON format.\n",
    "\n",
    "See below for the structure of the data:"
   ]
  },
  {
   "cell_type": "code",
   "execution_count": null,
   "metadata": {},
   "outputs": [],
   "source": [
    "with open('tracks-beatles.json') as tracks_file:\n",
    "    raw_tracks = tracks_file.readlines()\n",
    "    pprint(json.loads(raw_tracks[0]))"
   ]
  },
  {
   "cell_type": "markdown",
   "metadata": {},
   "source": [
    "By using the `pandas` library and a DataFrame representation of the tracks, answer the following questions:\n",
    "\n",
    "**Q:** Load the data into a pandas DataFrame."
   ]
  },
  {
   "cell_type": "code",
   "execution_count": null,
   "metadata": {},
   "outputs": [],
   "source": [
    "# your code here"
   ]
  },
  {
   "cell_type": "markdown",
   "metadata": {},
   "source": [
    "**Q:** Display the number of tracks by release date (day)"
   ]
  },
  {
   "cell_type": "code",
   "execution_count": null,
   "metadata": {},
   "outputs": [],
   "source": [
    "# your code here"
   ]
  },
  {
   "cell_type": "markdown",
   "metadata": {},
   "source": [
    "**Q:** Display the number of tracks by year"
   ]
  },
  {
   "cell_type": "code",
   "execution_count": null,
   "metadata": {},
   "outputs": [],
   "source": [
    "# your code here"
   ]
  },
  {
   "cell_type": "markdown",
   "metadata": {},
   "source": [
    "**Q:** Display the name and year of release of the 10 most popular tracks"
   ]
  },
  {
   "cell_type": "code",
   "execution_count": null,
   "metadata": {},
   "outputs": [],
   "source": [
    "# your code here"
   ]
  },
  {
   "cell_type": "markdown",
   "metadata": {},
   "source": [
    "**Q:** Count and display the repartition of tracks by album types"
   ]
  },
  {
   "cell_type": "code",
   "execution_count": null,
   "metadata": {},
   "outputs": [],
   "source": [
    "# your code here"
   ]
  },
  {
   "cell_type": "markdown",
   "metadata": {},
   "source": [
    "**Q:** Plot the average duration of track in minutes by year"
   ]
  },
  {
   "cell_type": "code",
   "execution_count": null,
   "metadata": {},
   "outputs": [],
   "source": [
    "# your code here"
   ]
  }
 ],
 "metadata": {
  "kernelspec": {
   "display_name": "Python 2",
   "language": "python",
   "name": "python2"
  },
  "language_info": {
   "codemirror_mode": {
    "name": "ipython",
    "version": 2
   },
   "file_extension": ".py",
   "mimetype": "text/x-python",
   "name": "python",
   "nbconvert_exporter": "python",
   "pygments_lexer": "ipython2",
   "version": "2.7.10"
  },
  "nav_menu": {},
  "toc": {
   "navigate_menu": true,
   "number_sections": true,
   "sideBar": true,
   "threshold": 6,
   "toc_cell": false,
   "toc_section_display": "block",
   "toc_window_display": true
  },
  "toc_position": {
   "height": "616px",
   "left": "0px",
   "right": "1123px",
   "top": "106px",
   "width": "157px"
  }
 },
 "nbformat": 4,
 "nbformat_minor": 1
}
