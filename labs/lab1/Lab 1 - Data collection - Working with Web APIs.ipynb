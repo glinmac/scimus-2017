{
 "cells": [
  {
   "cell_type": "markdown",
   "metadata": {
    "collapsed": true
   },
   "source": [
    "# Lab 1 - Data Collection - Querying Web APIs\n",
    "\n",
    "---\n",
    "\n",
    "**Date:**\n",
    "\n",
    "**Group:**\n",
    " - *Student Name 1*\n",
    " - *Student Name 2*\n",
    "---\n",
    "\n",
    "In this first lab, we will learn how to connect and retrieve data from different Web APIs and then perform basic processing and analysis of the results."
   ]
  },
  {
   "cell_type": "code",
   "execution_count": null,
   "metadata": {
    "code_folding": [],
    "hide_input": false,
    "scrolled": false
   },
   "outputs": [],
   "source": [
    "# General dependencies\n",
    "# !! run this cell first before any other ones\n",
    "import sys\n",
    "import os\n",
    "import time\n",
    "import operator\n",
    "from IPython.core.display import HTML\n",
    "from IPython.display import display, IFrame\n",
    "from collections import defaultdict\n",
    "from pprint import pprint\n",
    "%matplotlib inline"
   ]
  },
  {
   "cell_type": "markdown",
   "metadata": {},
   "source": [
    "## Interacting with APIs in Python\n",
    "\n",
    "### Introduction to `requests` \n",
    "\n",
    "In order to programmatically query HTTP APIs, we'll be using the Python `requests` module (http://docs.python-requests.org/en/master/).\n",
    "\n",
    "You can consult the `requests`'s [quickstart](http://docs.python-requests.org/en/master/user/quickstart/#quickstart) documentation for some more details.\n",
    "\n",
    "To start with, we need to run the following Python statement to import the module into our notebook:"
   ]
  },
  {
   "cell_type": "code",
   "execution_count": null,
   "metadata": {
    "scrolled": true
   },
   "outputs": [],
   "source": [
    "import requests"
   ]
  },
  {
   "cell_type": "markdown",
   "metadata": {},
   "source": [
    "Once the module is imported, we can start to query some URLs. As a first test, let's look at the Wikipedia page about [*Acoustic Fingerprint*](https://en.wikipedia.org/wiki/Acoustic_fingerprint)"
   ]
  },
  {
   "cell_type": "code",
   "execution_count": null,
   "metadata": {
    "scrolled": false
   },
   "outputs": [],
   "source": [
    "r = requests.get('https://en.wikipedia.org/wiki/Acoustic_fingerprint')"
   ]
  },
  {
   "cell_type": "markdown",
   "metadata": {},
   "source": [
    "Some more details about this request:\n",
    "* We are performing an HTTP `GET` request (`.get(...)`), to retrieve data from the server at the given URL. There are several types of HTTP methods available to interact with an HTTP service. You can consult https://en.wikipedia.org/wiki/Hypertext_Transfer_Protocol#Request_methods and https://www.w3.org/Protocols/rfc2616/rfc2616-sec9.html for more details.\n",
    "* You can get details about the `requests.get` method as follows:"
   ]
  },
  {
   "cell_type": "code",
   "execution_count": null,
   "metadata": {
    "scrolled": false
   },
   "outputs": [],
   "source": [
    "help(requests.get)"
   ]
  },
  {
   "cell_type": "markdown",
   "metadata": {},
   "source": [
    "Let's have a look at the reply from the server:"
   ]
  },
  {
   "cell_type": "code",
   "execution_count": null,
   "metadata": {
    "scrolled": false
   },
   "outputs": [],
   "source": [
    "r"
   ]
  },
  {
   "cell_type": "markdown",
   "metadata": {},
   "source": [
    "The response returned is an object of type `requests.models.Response`."
   ]
  },
  {
   "cell_type": "code",
   "execution_count": null,
   "metadata": {
    "scrolled": false
   },
   "outputs": [],
   "source": [
    "type(r)"
   ]
  },
  {
   "cell_type": "markdown",
   "metadata": {},
   "source": [
    "The documentation can be fetched at http://docs.python-requests.org/en/latest/api/#requests.Response or also inline in this notebook:"
   ]
  },
  {
   "cell_type": "code",
   "execution_count": null,
   "metadata": {
    "scrolled": false
   },
   "outputs": [],
   "source": [
    "help(r)"
   ]
  },
  {
   "cell_type": "markdown",
   "metadata": {},
   "source": [
    "### HTTP Status & Errors\n",
    "As you may see, one of the attributes is `status_code` and can be used to test if the query was succesfull:"
   ]
  },
  {
   "cell_type": "code",
   "execution_count": null,
   "metadata": {
    "scrolled": false
   },
   "outputs": [],
   "source": [
    "print('Status code:', r.status_code)"
   ]
  },
  {
   "cell_type": "markdown",
   "metadata": {},
   "source": [
    "You can consult the list of HTTP status codes at http://www.w3.org/Protocols/rfc2616/rfc2616-sec10.html or https://en.wikipedia.org/wiki/List_of_HTTP_status_codes for more details.\n",
    "\n",
    "The family of status codes *2xx* indicates a success, *4xx* an error that the caller may be able to fix by modifying the request, parameters (providing query parameter or adding authentication for instance), 5xx a server error.\n",
    "\n",
    "The status code should be checked to make sure that the request completed correctly. Additional information about the error may be passed by the server in the content of the reply.\n",
    "\n",
    "Alternatively, a Python exception can be raised if the status code is not a succesfull one:"
   ]
  },
  {
   "cell_type": "code",
   "execution_count": null,
   "metadata": {
    "scrolled": false
   },
   "outputs": [],
   "source": [
    "r.raise_for_status() "
   ]
  },
  {
   "cell_type": "markdown",
   "metadata": {},
   "source": [
    "This doesn't raise a Python exception since the server returned a 200 status code. However, if we request a non existing page for instance:"
   ]
  },
  {
   "cell_type": "code",
   "execution_count": null,
   "metadata": {
    "scrolled": false
   },
   "outputs": [],
   "source": [
    "r_error = requests.get('https://en.wikipedia.org/wiki/Acoustic_fingerprint3')\n",
    "r_error.raise_for_status()"
   ]
  },
  {
   "cell_type": "markdown",
   "metadata": {},
   "source": [
    "An `HTTPError` exception from the `requests` module is raised. It corresponds to a traditional 404 exception, meaning there is no data at the given URL. "
   ]
  },
  {
   "cell_type": "code",
   "execution_count": null,
   "metadata": {
    "scrolled": false
   },
   "outputs": [],
   "source": [
    "help(requests.exceptions.HTTPError)"
   ]
  },
  {
   "cell_type": "markdown",
   "metadata": {},
   "source": [
    "In addition to the status code, the server may also provide some information in the reply:"
   ]
  },
  {
   "cell_type": "code",
   "execution_count": null,
   "metadata": {},
   "outputs": [],
   "source": [
    "r_error.content"
   ]
  },
  {
   "cell_type": "markdown",
   "metadata": {},
   "source": [
    "In this case, the server replies with an HTML page containing instructions for the end user. See https://en.wikipedia.org/wiki/Acoustic_fingerprint3 for instance:"
   ]
  },
  {
   "cell_type": "code",
   "execution_count": null,
   "metadata": {},
   "outputs": [],
   "source": [
    "HTML(r_error.text)"
   ]
  },
  {
   "cell_type": "markdown",
   "metadata": {},
   "source": [
    "### HTTP Headers\n",
    "An interesting set of properties from the reply are the [HTTP Headers](https://en.wikipedia.org/wiki/List_of_HTTP_header_fields). They contain different kind of information from the server, some of them are standard for any HTTP requests, some others may be specific to the API, the server and the reply."
   ]
  },
  {
   "cell_type": "code",
   "execution_count": null,
   "metadata": {
    "scrolled": false
   },
   "outputs": [],
   "source": [
    "r.headers"
   ]
  },
  {
   "cell_type": "markdown",
   "metadata": {},
   "source": [
    "Amongst all these information, we can in particular note the following ones that indicates:\n",
    " - The type of content returned by the server: `Content-Type`\n",
    " - The language of the content: `Content-Language`\n",
    " - The last modified date of the content: `Last-Modified`"
   ]
  },
  {
   "cell_type": "code",
   "execution_count": null,
   "metadata": {
    "scrolled": false
   },
   "outputs": [],
   "source": [
    "print('Content-Type:', r.headers['Content-Type'])\n",
    "print('Content-language:', r.headers['Content-language'])\n",
    "print('Last-Modified:', r.headers['Last-Modified'])"
   ]
  },
  {
   "cell_type": "markdown",
   "metadata": {},
   "source": [
    "Headers can also be set when requesting data from a server and the server may use them to modify the reply being returned.\n",
    "\n",
    "One of them is the `Accept` headers that tells the server what type of data the client is supporting (HTML, XML, JSON, ...).\n",
    "\n",
    "An `Accept = 'application/json'` header set by the client will notify the server that result should be returned in JSON format. This may be not honored by the server if this behaviour is not supported.\n",
    "\n",
    "Another common header is the `Agent` that is generally filled by Web Browsers (Firefox, Chrome, Internet Explorer, Safari, ...) which indicates the type of Browser requesting the URL. \n",
    "\n",
    "To set header when requesting data, the `.get()` method allows to provide a `headers` dictionary containing headers to be provided:"
   ]
  },
  {
   "cell_type": "code",
   "execution_count": null,
   "metadata": {},
   "outputs": [],
   "source": [
    "r = requests.get('https://en.wikipedia.org/wiki/Acoustic_fingerprint',\n",
    "                 headers = {\n",
    "                     'Agent': 'Python Requests - Scimus'\n",
    "                 })"
   ]
  },
  {
   "cell_type": "markdown",
   "metadata": {},
   "source": [
    "### Retrieve content\n",
    "Now, let's have a look at the actual content returned by the server.\n",
    "\n",
    "It is available using the `content` property as a Python `bytes` (the string is prefixed by a `b`):"
   ]
  },
  {
   "cell_type": "code",
   "execution_count": null,
   "metadata": {
    "scrolled": true
   },
   "outputs": [],
   "source": [
    "print(type(r.content))\n",
    "r.content"
   ]
  },
  {
   "cell_type": "markdown",
   "metadata": {},
   "source": [
    "Since the `Content-Type` HTTP header is marked as text (`text/html; charset=UTF-8`), we can also directly retrieve the content as a string:"
   ]
  },
  {
   "cell_type": "code",
   "execution_count": null,
   "metadata": {
    "scrolled": true
   },
   "outputs": [],
   "source": [
    "r.text"
   ]
  },
  {
   "cell_type": "markdown",
   "metadata": {},
   "source": [
    "Which we can also display in HTML in this notebook:"
   ]
  },
  {
   "cell_type": "code",
   "execution_count": null,
   "metadata": {
    "scrolled": true
   },
   "outputs": [],
   "source": [
    "HTML(r.text)"
   ]
  },
  {
   "cell_type": "markdown",
   "metadata": {},
   "source": [
    "### Using API\n",
    "In the previous section, we have directly queried the https://en.wikipedia.org/wiki/Acoustic_fingerprint URL which is the one you can consult directly in a web browser.\n",
    "The data is returned as HTML, for end use consumption and is not necessarily appropriate for programatic querying. You would have to parse it to get the content, retrieve the comments or issue new requests to access previous versions of the page...\n",
    "\n",
    "We can use the [MediaWiki API](https://www.mediawiki.org/wiki/API:Main_page) to perform the same actions in a more effective way:\n",
    "    "
   ]
  },
  {
   "cell_type": "code",
   "execution_count": null,
   "metadata": {
    "scrolled": false
   },
   "outputs": [],
   "source": [
    "r = requests.get('https://en.wikipedia.org/w/api.php',\n",
    "                 params = {\n",
    "                     'action': 'query',\n",
    "                     'titles': 'Acoustic fingerprint',\n",
    "                     'prop': 'revisions',\n",
    "                     'rvprop': 'content|user',\n",
    "                     'format': 'json'\n",
    "                 })\n",
    "r.raise_for_status()"
   ]
  },
  {
   "cell_type": "markdown",
   "metadata": {},
   "source": [
    "* `https://en.wikipedia.org/w/api.php` is the WikiMedia API endpoint\n",
    "* `params` is a Python `dict` containing the HTTP parameters to submit to the endpoint. `requests` will build the following URL and send the `GET` request to the server: https://en.wikipedia.org/w/api.php?action=query&titles=Acoustic%20fingerprint&prop=revisions&rvprop=content|user&format=json\n",
    "* the different parameters and roles are documented in the WikiMedia API. In a nutshell, we *query* the API for pages with given *titles* looking for its *revisions*, returning the *content* and the last *user* of the last revision of the page. The result is returned as a *JSON* object.\n",
    "\n",
    "The `Content-Type` header is generally set to `application/json` for JSON APIs:"
   ]
  },
  {
   "cell_type": "code",
   "execution_count": null,
   "metadata": {
    "scrolled": false
   },
   "outputs": [],
   "source": [
    "r.headers['Content-Type']"
   ]
  },
  {
   "cell_type": "markdown",
   "metadata": {},
   "source": [
    "We can then use the `json()` function to extract the content of the reply as a Python dictionary:"
   ]
  },
  {
   "cell_type": "code",
   "execution_count": null,
   "metadata": {
    "scrolled": false
   },
   "outputs": [],
   "source": [
    "help(r.json)"
   ]
  },
  {
   "cell_type": "code",
   "execution_count": null,
   "metadata": {
    "scrolled": false
   },
   "outputs": [],
   "source": [
    "json_data = r.json()\n",
    "print(type(json_data))\n",
    "json_data"
   ]
  },
  {
   "cell_type": "markdown",
   "metadata": {},
   "source": [
    "We can display it in a nicer way with `pprint`:"
   ]
  },
  {
   "cell_type": "code",
   "execution_count": null,
   "metadata": {
    "scrolled": true
   },
   "outputs": [],
   "source": [
    "pprint(json_data)"
   ]
  },
  {
   "cell_type": "markdown",
   "metadata": {},
   "source": [
    "This is then easier to extract information from the reply:"
   ]
  },
  {
   "cell_type": "code",
   "execution_count": null,
   "metadata": {
    "scrolled": false
   },
   "outputs": [],
   "source": [
    "for page, data in json_data['query']['pages'].items():\n",
    "    print('Page Id:', page)\n",
    "    print('Title:', data['title'])\n",
    "    print('User:', data['revisions'][0]['user'])\n",
    "    print('Content length:', len(data['revisions'][0]['*']))"
   ]
  },
  {
   "cell_type": "markdown",
   "metadata": {},
   "source": [
    "The format and structure of the data returned by the API is specific to each API and API endpoints. This is generally refered to as *data strucure*, *data model* or *schema*."
   ]
  },
  {
   "cell_type": "markdown",
   "metadata": {},
   "source": [
    "## Exercice 1"
   ]
  },
  {
   "cell_type": "markdown",
   "metadata": {},
   "source": [
    "The [MusicBrainz](https://musicbrainz.org/) project offers a collection of data and APIs to access data about artists, their releases and various other metadata associated to their work.\n",
    "\n",
    "Amongst their services, they built an [XML](https://musicbrainz.org/doc/Development/XML_Web_Service/Version_2) and [JSON](https://musicbrainz.org/doc/Development/JSON_Web_Service) API to interact with their database and expose metadata about the artists.\n",
    "\n",
    "We want to programmatically query their API to build an equivalent of their search and display pages:"
   ]
  },
  {
   "cell_type": "code",
   "execution_count": null,
   "metadata": {},
   "outputs": [],
   "source": [
    "IFrame(\"https://musicbrainz.org/search?query=deep+purple&type=artist&method=indexed\", width=800, height=200)"
   ]
  },
  {
   "cell_type": "code",
   "execution_count": null,
   "metadata": {},
   "outputs": [],
   "source": [
    "IFrame(\"https://musicbrainz.org/artist/79491354-3d83-40e3-9d8e-7592d58d790a\", width=800, height=200)"
   ]
  },
  {
   "cell_type": "markdown",
   "metadata": {},
   "source": [
    "### Introduction to the MusicBrainz API\n",
    "\n",
    "We first need to be able to use the MusicBrainz API to search for artists and identify their unique MBID (MusicBrainz ID). The MBID will allow to uniquely identify an artist and fetch more information about other data associated (release, release group, work, ...)\n",
    "\n",
    "**Q**: Reading the [API documentation](https://musicbrainz.org/doc/Development/XML_Web_Service/Version_2#Introduction) for the MusicBrainz WebService, identify the URL that is associated to their API:"
   ]
  },
  {
   "cell_type": "code",
   "execution_count": null,
   "metadata": {},
   "outputs": [],
   "source": [
    "# your code here\n",
    "MBZ_API_ROOT = ..."
   ]
  },
  {
   "cell_type": "markdown",
   "metadata": {},
   "source": [
    "**Q:** Make a `GET` request to the endpoint to see where it leads to and use the `HTML` built-in feature of Jupyter to display the page."
   ]
  },
  {
   "cell_type": "code",
   "execution_count": null,
   "metadata": {},
   "outputs": [],
   "source": [
    "# your code here"
   ]
  },
  {
   "cell_type": "markdown",
   "metadata": {},
   "source": [
    "The `artist` end point of the API will allow us to both look up for artist and get their details:"
   ]
  },
  {
   "cell_type": "code",
   "execution_count": null,
   "metadata": {},
   "outputs": [],
   "source": [
    "MBZ_ARTIST = '%s/artist' % MBZ_API_ROOT.strip('/')\n",
    "print(MBZ_ARTIST)\n",
    "r = requests.get(MBZ_ARTIST)\n",
    "r.raise_for_status()"
   ]
  },
  {
   "cell_type": "markdown",
   "metadata": {},
   "source": [
    "As you can see, we get a 400 error which means we haven't submitted a valid request to the server. \n",
    "\n",
    "**Q:** Display the error returned by the server by printing the content of the reply."
   ]
  },
  {
   "cell_type": "code",
   "execution_count": null,
   "metadata": {},
   "outputs": [],
   "source": [
    "# your code here"
   ]
  },
  {
   "cell_type": "markdown",
   "metadata": {},
   "source": [
    "**Q:** What is the content type of the reply?"
   ]
  },
  {
   "cell_type": "code",
   "execution_count": null,
   "metadata": {},
   "outputs": [],
   "source": [
    "# your answer here"
   ]
  },
  {
   "cell_type": "markdown",
   "metadata": {},
   "source": [
    "**Q:** Confirm it by displaying the content-type from the reply headers."
   ]
  },
  {
   "cell_type": "code",
   "execution_count": null,
   "metadata": {},
   "outputs": [],
   "source": [
    "# your code here"
   ]
  },
  {
   "cell_type": "markdown",
   "metadata": {},
   "source": [
    "By following the instructions at https://musicbrainz.org/doc/Development/JSON_Web_Service for the JSON service:\n",
    "\n",
    "**Q:** Modify the request so that the reply is returned in JSON format and query the same artist endpoint."
   ]
  },
  {
   "cell_type": "code",
   "execution_count": null,
   "metadata": {},
   "outputs": [],
   "source": [
    "# your code here\n",
    "r = requests.get(MBZ_ARTIST, params = { \n",
    "    # set the appropriate parameters\n",
    "})"
   ]
  },
  {
   "cell_type": "markdown",
   "metadata": {},
   "source": [
    "**Q:** Display the error message."
   ]
  },
  {
   "cell_type": "code",
   "execution_count": null,
   "metadata": {},
   "outputs": [],
   "source": [
    "# your code here"
   ]
  },
  {
   "cell_type": "markdown",
   "metadata": {},
   "source": [
    "**Q:** Confirm that the content is in JSON format by inspecting the headers of the response."
   ]
  },
  {
   "cell_type": "code",
   "execution_count": null,
   "metadata": {},
   "outputs": [],
   "source": [
    "# your code here"
   ]
  },
  {
   "cell_type": "markdown",
   "metadata": {},
   "source": [
    "As described in the documentation, for each type of entity (artist, release, ...), the following syntax can be used to interact with the api:\n",
    "\n",
    "    lookup:   /<ENTITY>/<MBID>?inc=<INC>\n",
    "    browse:   /<ENTITY>?<ENTITY>=<MBID>&limit=<LIMIT>&offset=<OFFSET>&inc=<INC>\n",
    "    search:   /<ENTITY>?query=<QUERY>&limit=<LIMIT>&offset=<OFFSET>\n",
    "        \n",
    "The `limit` and `offset` parameters are common parameters used in many APIs to page the response, ie, to limit the number of records being returned still allowing to traverse all the records:\n",
    "* `limit` controls the maximum number of elements to be returned in an API call \n",
    "* `offset` indicates from where the request should start listing records\n",
    "\n",
    "This is similar to SQL `limit` and `offset` keywords.\n",
    "By incrementing `offset`, and issuing a new request to the server it is then possible to retrieve all results. \n",
    "\n",
    "### Searching for artists\n",
    "\n",
    "The search capability of the API is in particular documented at https://musicbrainz.org/doc/Development/XML_Web_Service/Version_2/Search .\n",
    "\n",
    "It follows the model previously described:\n",
    "\n",
    "    search:   /<ENTITY>?query=<QUERY>&limit=<LIMIT>&offset=<OFFSET>\n",
    "    \n",
    "**Q:** Write a request that look for artist with name *Deep Purple* and returns the matches in JSON format. Use the `+` character to encode the space."
   ]
  },
  {
   "cell_type": "code",
   "execution_count": null,
   "metadata": {},
   "outputs": [],
   "source": [
    "# your code here"
   ]
  },
  {
   "cell_type": "markdown",
   "metadata": {},
   "source": [
    "**Q:** Inspect the json object returned and list its keys."
   ]
  },
  {
   "cell_type": "code",
   "execution_count": null,
   "metadata": {},
   "outputs": [],
   "source": [
    "# Your code here"
   ]
  },
  {
   "cell_type": "markdown",
   "metadata": {},
   "source": [
    "**Q:** Print the first artist returned."
   ]
  },
  {
   "cell_type": "code",
   "execution_count": null,
   "metadata": {},
   "outputs": [],
   "source": [
    "# Your code here"
   ]
  },
  {
   "cell_type": "markdown",
   "metadata": {},
   "source": [
    "**Q:** Print the list of properties (keys) of the first artist."
   ]
  },
  {
   "cell_type": "code",
   "execution_count": null,
   "metadata": {},
   "outputs": [],
   "source": [
    "# Your code here"
   ]
  },
  {
   "cell_type": "markdown",
   "metadata": {},
   "source": [
    "**Q:** In the reply, identify how many total matches are being found by the server and compare with the search provided by the MusicBrainz website (https://musicbrainz.org/search?query=deep%2Bpurple&type=artist&method=indexed)."
   ]
  },
  {
   "cell_type": "code",
   "execution_count": null,
   "metadata": {},
   "outputs": [],
   "source": [
    "# your code here"
   ]
  },
  {
   "cell_type": "markdown",
   "metadata": {},
   "source": [
    "**Q:** How many artists are being returned in the reply?"
   ]
  },
  {
   "cell_type": "code",
   "execution_count": null,
   "metadata": {},
   "outputs": [],
   "source": [
    "# your code here"
   ]
  },
  {
   "cell_type": "markdown",
   "metadata": {},
   "source": [
    "Now, we are going to retrieve all the artists using the `offset` parameter to fetch all results in a Python list.\n",
    "\n",
    "**MusicBrainz is rate limiting API calls, so make sure you add a `time.sleep(1)` before fetching the next batch of results.**\n",
    "\n",
    "**Q:** Complete/modify the below Python code to retrieve all artists matching the previous search for the terms *Deep Purple*."
   ]
  },
  {
   "cell_type": "code",
   "execution_count": null,
   "metadata": {},
   "outputs": [],
   "source": [
    "# Your code here - we give you the following startint point\n",
    "\n",
    "# this variable will contain all the artists at the end of the execution\n",
    "artists = []\n",
    "# this flag must be set to False when there is no more result to fetch from the API\n",
    "has_next = True\n",
    "# This is the initial offset at which we start\n",
    "offset = 0\n",
    "# This is the number of records we fetch from the API each time\n",
    "limit = 20\n",
    "\n",
    "# more varialbes if you need\n",
    "\n",
    "# Fetch all the list\n",
    "while has_next:\n",
    "    # fetch the next batch of data\n",
    "    r = requests.get(...)\n",
    "    \n",
    "    # extract the artists from the reply\n",
    "    new_artists = ...\n",
    "    \n",
    "    # append the new artists to the list\n",
    "    artists.extend(new_artists)\n",
    "    \n",
    "    # jump to the next offset\n",
    "    offset += limit\n",
    "    \n",
    "    # wait to not overwhelm the MusicBrainz API\n",
    "    time.sleep(1)"
   ]
  },
  {
   "cell_type": "markdown",
   "metadata": {},
   "source": [
    "**Q:** Using the previous code, write a Python function which returns all the artists matching some given search terms and run it for a couple of artists and display the number of results."
   ]
  },
  {
   "cell_type": "code",
   "execution_count": null,
   "metadata": {},
   "outputs": [],
   "source": [
    "# Your code here\n",
    "def search_artists(search_terms):\n",
    "    artists = []\n",
    "    # ...\n",
    "    return artists"
   ]
  },
  {
   "cell_type": "code",
   "execution_count": null,
   "metadata": {},
   "outputs": [],
   "source": [
    "artists_1 = search_artists(...)\n",
    "artists_2 = search_artists(...)\n",
    "...\n",
    "print(..."
   ]
  },
  {
   "cell_type": "markdown",
   "metadata": {},
   "source": [
    "You may have noticed the score parameter associated with each artist in the result.\n",
    "\n",
    "**Q:** For the same search for the artist *Deep Purple*, display the first score of the first 10 artists in the list with their MusicBrainzID. Compare with the online search results."
   ]
  },
  {
   "cell_type": "code",
   "execution_count": null,
   "metadata": {},
   "outputs": [],
   "source": [
    "# Your code here"
   ]
  },
  {
   "cell_type": "markdown",
   "metadata": {},
   "source": [
    "We can also use the data retrieved and present the data into an HTML format. For this we can build an HTML page and display it withing this notebook with the `HTML()` function.\n",
    "\n",
    "**Q:** Write a function that build an HTML page matching some given search terms. Similarly to the MusicBrainz search web result, display the result as an HTML table with the artist names, its MBID and its search score. Limit the display to the first 25 matches of the input list. Use the previous `search_artists` functions to fetch the matching artists."
   ]
  },
  {
   "cell_type": "code",
   "execution_count": null,
   "metadata": {},
   "outputs": [],
   "source": [
    "# Complete / adapt the following code if needed\n",
    "search_template = \"\"\"\n",
    "<html>\n",
    "<body>\n",
    "  <h1>Search Results for \"%(search_terms)s\":</h1>\n",
    "  <table>\n",
    "    <thead>\n",
    "      <tr>\n",
    "        <th>MBID</th>\n",
    "        <th>Artist</th>\n",
    "        <th>Search Score</th>\n",
    "      </tr>\n",
    "    </thead>\n",
    "    <tbody>\n",
    "      %(search_results)s\n",
    "    </tbody>\n",
    "</body>\n",
    "\"\"\"\n",
    "artist_template = \"\"\"\n",
    "<tr>\n",
    " <td>%(mbid)s</td>\n",
    " <td>%(name)s</td>\n",
    " <td>%(score)s</td>\n",
    "</tr> \n",
    "\"\"\""
   ]
  },
  {
   "cell_type": "code",
   "execution_count": null,
   "metadata": {},
   "outputs": [],
   "source": [
    "# Example to produce a string given the templates\n",
    "HTML(artist_template % {'mbid': '1234', 'name': 'The Name', 'score': 40})"
   ]
  },
  {
   "cell_type": "code",
   "execution_count": null,
   "metadata": {},
   "outputs": [],
   "source": [
    "# Complete / adapt the following code if needed\n",
    "def gen_search_results(search_terms):\n",
    "    artists = ...\n",
    "    table_content = \"\"\n",
    "    for artist in ....:\n",
    "        table_content += ...\n",
    "    data =  {\n",
    "        'search_terms': search_terms,\n",
    "        'search_results': table_content\n",
    "    }\n",
    "    return search_template % data"
   ]
  },
  {
   "cell_type": "markdown",
   "metadata": {},
   "source": [
    "**Q:** How would you modify the `gen_search_results` and `search_artists` function so that only a given number of \n",
    "    artists are retrieved from the API and displays *i.e.* `search_artists` is only fetching `x` first matches instead of\n",
    "    all of them? Create a new set of functions implementing this feature and test it."
   ]
  },
  {
   "cell_type": "code",
   "execution_count": null,
   "metadata": {},
   "outputs": [],
   "source": [
    "# Your code/answer here"
   ]
  },
  {
   "cell_type": "markdown",
   "metadata": {},
   "source": [
    "**Q:** Write a function that takes an artist name in input and that returns its MusicBrainzID by picking the one with the highest score using the search API."
   ]
  },
  {
   "cell_type": "code",
   "execution_count": null,
   "metadata": {},
   "outputs": [],
   "source": [
    "# your code here\n",
    "def get_mbid_for_artist(artist_name):\n",
    "    # ...\n",
    "    return mbid"
   ]
  },
  {
   "cell_type": "markdown",
   "metadata": {},
   "source": [
    "You can check your code against the following tests:"
   ]
  },
  {
   "cell_type": "code",
   "execution_count": null,
   "metadata": {},
   "outputs": [],
   "source": [
    "assert get_mbid_for_artist('deep purple') == '79491354-3d83-40e3-9d8e-7592d58d790a'\n",
    "assert get_mbid_for_artist('pink floyd') == '83d91898-7763-47d7-b03b-b92132375c47'"
   ]
  },
  {
   "cell_type": "markdown",
   "metadata": {},
   "source": [
    "### Getting Artist details\n",
    "\n",
    "Once we have identify the correct MBID, we can use the appropriate endpoint to retrieve information about the artist:\n",
    "\n",
    "    lookup:   /<ENTITY>/<MBID>?inc=<INC>\n",
    "    \n",
    "**Q:** Using the artist end point, retrieve the artist's details."
   ]
  },
  {
   "cell_type": "code",
   "execution_count": null,
   "metadata": {},
   "outputs": [],
   "source": [
    "# your code here"
   ]
  },
  {
   "cell_type": "markdown",
   "metadata": {},
   "source": [
    "Additional information can be retrieved from the endpoint, use the `inc` parameter.\n",
    "\n",
    "**Q:** Using the `inc` parameter (https://musicbrainz.org/doc/Development/XML_Web_Service/Version_2#inc.3D_arguments_which_affect_subqueries), retrieve the ratings and tags associated with the band."
   ]
  },
  {
   "cell_type": "code",
   "execution_count": null,
   "metadata": {},
   "outputs": [],
   "source": [
    "# your code here"
   ]
  },
  {
   "cell_type": "markdown",
   "metadata": {},
   "source": [
    "**Q:** Using your previous answers, write a function that given a MusicBrainz ID of an artist, returns a Python dictionary containing the following information\n",
    " - The MBID\n",
    " - The artist's name\n",
    " - The most popular tag associated with the artist\n",
    " - The type of artist\n",
    " - Its ratings\n",
    " - The country\n"
   ]
  },
  {
   "cell_type": "code",
   "execution_count": null,
   "metadata": {},
   "outputs": [],
   "source": [
    "# Your code here\n",
    "def get_artist_data(mbid):\n",
    "    data = {}\n",
    "    # ...\n",
    "    return data"
   ]
  },
  {
   "cell_type": "markdown",
   "metadata": {},
   "source": [
    "### Getting list of releases for an artist\n",
    "\n",
    "In a similar way than for the search, we now want to retrieve all releases associated to the artist.\n",
    "\n",
    "**Q:** Identify the different API end points that may be used to retrieve releases associated to the artist. For each of them write a small query to validate and test them."
   ]
  },
  {
   "cell_type": "code",
   "execution_count": null,
   "metadata": {},
   "outputs": [],
   "source": [
    "# Your code here"
   ]
  },
  {
   "cell_type": "markdown",
   "metadata": {},
   "source": [
    "**Q:**  Write a function that uses the release API end point to fetch all releases for a given artist identified by its MBID. As for the search, don't forget to use the `time.sleep(1)` function before each new call to the MusicBrainz API.\n",
    "\n",
    "Validate your code against the *Deep Purple* release page: https://musicbrainz.org/artist/79491354-3d83-40e3-9d8e-7592d58d790a/releases"
   ]
  },
  {
   "cell_type": "code",
   "execution_count": null,
   "metadata": {},
   "outputs": [],
   "source": [
    "# your code here\n",
    "def get_artist_releases(mbid):\n",
    "    releases = []\n",
    "    # ...\n",
    "    return releases"
   ]
  },
  {
   "cell_type": "markdown",
   "metadata": {},
   "source": [
    "You can validate your code against the following artists for instance:"
   ]
  },
  {
   "cell_type": "code",
   "execution_count": null,
   "metadata": {},
   "outputs": [],
   "source": [
    "deep_purple_releases = get_artist_releases('79491354-3d83-40e3-9d8e-7592d58d790a')\n",
    "assert len(deep_purple_releases) == 649\n",
    "pink_floyd_releases = get_artist_releases('83d91898-7763-47d7-b03b-b92132375c47')\n",
    "assert len(pink_floyd_releases) == 1358"
   ]
  },
  {
   "cell_type": "markdown",
   "metadata": {},
   "source": [
    "Let's generate some statistics on the data retrieved.\n",
    "\n",
    "**Q:** Given a list of releases, write a function that returns the number of releases made by the artist by year and test it for a couple of difference artists. Test it against a couple of artists."
   ]
  },
  {
   "cell_type": "code",
   "execution_count": null,
   "metadata": {},
   "outputs": [],
   "source": [
    "# your code here\n",
    "def count_of_releases_by_year(releases):\n",
    "    count_by_year = {}\n",
    "    # ...\n",
    "    return count_by_year"
   ]
  },
  {
   "cell_type": "markdown",
   "metadata": {},
   "source": [
    "## Exercice 2"
   ]
  },
  {
   "cell_type": "markdown",
   "metadata": {},
   "source": [
    "iTunes has also an API documented at https://affiliate.itunes.apple.com/resources/documentation/itunes-store-web-service-search-api which allows to search and retrieve different information.\n",
    "\n",
    "\n",
    "**Q:** Use the iTunes Search API to find out the `artistId` of *Deep Purple*."
   ]
  },
  {
   "cell_type": "code",
   "execution_count": null,
   "metadata": {},
   "outputs": [],
   "source": [
    "# your code here"
   ]
  },
  {
   "cell_type": "markdown",
   "metadata": {},
   "source": [
    "**Q:** Write a function that returns the data for a given `artistId`"
   ]
  },
  {
   "cell_type": "code",
   "execution_count": null,
   "metadata": {},
   "outputs": [],
   "source": [
    "# Your code / answers here\n",
    "def get_itunes_artist_details(artist_id):\n",
    "    data = {}\n",
    "    # ...\n",
    "    return data"
   ]
  },
  {
   "cell_type": "markdown",
   "metadata": {},
   "source": [
    "**Q:** Write a function that returns the list of albums for the given artist."
   ]
  },
  {
   "cell_type": "code",
   "execution_count": null,
   "metadata": {
    "scrolled": false
   },
   "outputs": [],
   "source": [
    "# your code here\n",
    "def get_itunes_album_for_artist(artist_id):\n",
    "    albums = []\n",
    "    # ...\n",
    "    return albums"
   ]
  },
  {
   "cell_type": "markdown",
   "metadata": {
    "collapsed": true
   },
   "source": [
    "## Exercice 3\n",
    "\n",
    "Using code similar to the search page, write a small function that generates an HTML page giving artist data retrieved from the different APIs:\n",
    " - Artist's details from MusicBrainz\n",
    " - Artist's details from iTunes Search\n",
    " - List of releases found in MusicBrainz\n",
    " - List of releases found in iTunes Search\n",
    " - Section containing the content of the wikipedia page associated to the artist.\n"
   ]
  },
  {
   "cell_type": "code",
   "execution_count": null,
   "metadata": {},
   "outputs": [],
   "source": [
    "# Your code here\n",
    "template_page = \"\"\"\n",
    "\n",
    "\"\"\"\n",
    "def generate_page(...):\n",
    "    page = ...\n",
    "    return page"
   ]
  }
 ],
 "metadata": {
  "kernelspec": {
   "display_name": "Python 3",
   "language": "python",
   "name": "python3"
  },
  "language_info": {
   "codemirror_mode": {
    "name": "ipython",
    "version": 3
   },
   "file_extension": ".py",
   "mimetype": "text/x-python",
   "name": "python",
   "nbconvert_exporter": "python",
   "pygments_lexer": "ipython3",
   "version": "3.5.1"
  },
  "nav_menu": {},
  "toc": {
   "navigate_menu": true,
   "number_sections": true,
   "sideBar": true,
   "threshold": 6,
   "toc_cell": false,
   "toc_section_display": "block",
   "toc_window_display": true
  }
 },
 "nbformat": 4,
 "nbformat_minor": 1
}
